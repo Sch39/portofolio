{
  "nbformat": 4,
  "nbformat_minor": 0,
  "metadata": {
    "colab": {
      "name": "Submission__2.ipynb",
      "provenance": [],
      "collapsed_sections": []
    },
    "kernelspec": {
      "name": "python3",
      "display_name": "Python 3"
    },
    "language_info": {
      "name": "python"
    }
  },
  "cells": [
    {
      "cell_type": "code",
      "metadata": {
        "id": "MFdDeXwDyvkA"
      },
      "source": [
        "import numpy as np\n",
        "import pandas as pd\n",
        "from keras.layers import Dense, LSTM\n",
        "import matplotlib.pyplot as plt\n",
        "import tensorflow as tf"
      ],
      "execution_count": 1,
      "outputs": []
    },
    {
      "cell_type": "code",
      "metadata": {
        "id": "T9XlpGGS3Nbi"
      },
      "source": [
        "df = pd.read_csv('dc.csv')"
      ],
      "execution_count": 2,
      "outputs": []
    },
    {
      "cell_type": "code",
      "metadata": {
        "colab": {
          "base_uri": "https://localhost:8080/",
          "height": 321
        },
        "id": "JoSD9zTG3cUF",
        "outputId": "780fcbd0-9320-469a-ff2a-852f1e4034a2"
      },
      "source": [
        "df.head()"
      ],
      "execution_count": 3,
      "outputs": [
        {
          "output_type": "execute_result",
          "data": {
            "text/html": [
              "<div>\n",
              "<style scoped>\n",
              "    .dataframe tbody tr th:only-of-type {\n",
              "        vertical-align: middle;\n",
              "    }\n",
              "\n",
              "    .dataframe tbody tr th {\n",
              "        vertical-align: top;\n",
              "    }\n",
              "\n",
              "    .dataframe thead th {\n",
              "        text-align: right;\n",
              "    }\n",
              "</style>\n",
              "<table border=\"1\" class=\"dataframe\">\n",
              "  <thead>\n",
              "    <tr style=\"text-align: right;\">\n",
              "      <th></th>\n",
              "      <th>Unnamed: 0</th>\n",
              "      <th>open_SAR</th>\n",
              "      <th>open_USD</th>\n",
              "      <th>high_SAR</th>\n",
              "      <th>high_USD</th>\n",
              "      <th>low_SAR</th>\n",
              "      <th>low_USD</th>\n",
              "      <th>close_SAR</th>\n",
              "      <th>close_USD</th>\n",
              "      <th>volume</th>\n",
              "    </tr>\n",
              "  </thead>\n",
              "  <tbody>\n",
              "    <tr>\n",
              "      <th>0</th>\n",
              "      <td>2021-01-30</td>\n",
              "      <td>128437.248512</td>\n",
              "      <td>34246.28</td>\n",
              "      <td>131012.723200</td>\n",
              "      <td>34933.00</td>\n",
              "      <td>123106.880000</td>\n",
              "      <td>32825.00</td>\n",
              "      <td>128333.212416</td>\n",
              "      <td>34218.54</td>\n",
              "      <td>43072</td>\n",
              "    </tr>\n",
              "    <tr>\n",
              "      <th>1</th>\n",
              "      <td>2021-01-29</td>\n",
              "      <td>125144.022272</td>\n",
              "      <td>33368.18</td>\n",
              "      <td>144510.037760</td>\n",
              "      <td>38531.90</td>\n",
              "      <td>119695.516160</td>\n",
              "      <td>31915.40</td>\n",
              "      <td>128459.450880</td>\n",
              "      <td>34252.20</td>\n",
              "      <td>231827</td>\n",
              "    </tr>\n",
              "    <tr>\n",
              "      <th>2</th>\n",
              "      <td>2021-01-28</td>\n",
              "      <td>113870.357376</td>\n",
              "      <td>30362.19</td>\n",
              "      <td>126703.438592</td>\n",
              "      <td>33783.98</td>\n",
              "      <td>111919.811840</td>\n",
              "      <td>29842.10</td>\n",
              "      <td>125131.570944</td>\n",
              "      <td>33364.86</td>\n",
              "      <td>92621</td>\n",
              "    </tr>\n",
              "    <tr>\n",
              "      <th>3</th>\n",
              "      <td>2021-01-27</td>\n",
              "      <td>121753.023104</td>\n",
              "      <td>32464.01</td>\n",
              "      <td>122102.860416</td>\n",
              "      <td>32557.29</td>\n",
              "      <td>109668.146688</td>\n",
              "      <td>29241.72</td>\n",
              "      <td>113885.208960</td>\n",
              "      <td>30366.15</td>\n",
              "      <td>95911</td>\n",
              "    </tr>\n",
              "    <tr>\n",
              "      <th>4</th>\n",
              "      <td>2021-01-26</td>\n",
              "      <td>120966.114176</td>\n",
              "      <td>32254.19</td>\n",
              "      <td>123470.218752</td>\n",
              "      <td>32921.88</td>\n",
              "      <td>115652.472448</td>\n",
              "      <td>30837.37</td>\n",
              "      <td>121767.124608</td>\n",
              "      <td>32467.77</td>\n",
              "      <td>84972</td>\n",
              "    </tr>\n",
              "  </tbody>\n",
              "</table>\n",
              "</div>"
            ],
            "text/plain": [
              "   Unnamed: 0       open_SAR  open_USD  ...      close_SAR  close_USD  volume\n",
              "0  2021-01-30  128437.248512  34246.28  ...  128333.212416   34218.54   43072\n",
              "1  2021-01-29  125144.022272  33368.18  ...  128459.450880   34252.20  231827\n",
              "2  2021-01-28  113870.357376  30362.19  ...  125131.570944   33364.86   92621\n",
              "3  2021-01-27  121753.023104  32464.01  ...  113885.208960   30366.15   95911\n",
              "4  2021-01-26  120966.114176  32254.19  ...  121767.124608   32467.77   84972\n",
              "\n",
              "[5 rows x 10 columns]"
            ]
          },
          "metadata": {
            "tags": []
          },
          "execution_count": 3
        }
      ]
    },
    {
      "cell_type": "code",
      "metadata": {
        "id": "saE_txi84gwP"
      },
      "source": [
        "df = df.drop(columns=[\"open_USD\", \"high_SAR\", \"high_USD\", \"low_SAR\", \"low_USD\", \"close_SAR\", \"close_USD\", \"volume\"])"
      ],
      "execution_count": 4,
      "outputs": []
    },
    {
      "cell_type": "code",
      "metadata": {
        "colab": {
          "base_uri": "https://localhost:8080/",
          "height": 199
        },
        "id": "_zZPn5n67Nkr",
        "outputId": "22408822-c0b2-44d3-9556-f50da9ff7439"
      },
      "source": [
        "df.head()"
      ],
      "execution_count": 5,
      "outputs": [
        {
          "output_type": "execute_result",
          "data": {
            "text/html": [
              "<div>\n",
              "<style scoped>\n",
              "    .dataframe tbody tr th:only-of-type {\n",
              "        vertical-align: middle;\n",
              "    }\n",
              "\n",
              "    .dataframe tbody tr th {\n",
              "        vertical-align: top;\n",
              "    }\n",
              "\n",
              "    .dataframe thead th {\n",
              "        text-align: right;\n",
              "    }\n",
              "</style>\n",
              "<table border=\"1\" class=\"dataframe\">\n",
              "  <thead>\n",
              "    <tr style=\"text-align: right;\">\n",
              "      <th></th>\n",
              "      <th>Unnamed: 0</th>\n",
              "      <th>open_SAR</th>\n",
              "    </tr>\n",
              "  </thead>\n",
              "  <tbody>\n",
              "    <tr>\n",
              "      <th>0</th>\n",
              "      <td>2021-01-30</td>\n",
              "      <td>128437.248512</td>\n",
              "    </tr>\n",
              "    <tr>\n",
              "      <th>1</th>\n",
              "      <td>2021-01-29</td>\n",
              "      <td>125144.022272</td>\n",
              "    </tr>\n",
              "    <tr>\n",
              "      <th>2</th>\n",
              "      <td>2021-01-28</td>\n",
              "      <td>113870.357376</td>\n",
              "    </tr>\n",
              "    <tr>\n",
              "      <th>3</th>\n",
              "      <td>2021-01-27</td>\n",
              "      <td>121753.023104</td>\n",
              "    </tr>\n",
              "    <tr>\n",
              "      <th>4</th>\n",
              "      <td>2021-01-26</td>\n",
              "      <td>120966.114176</td>\n",
              "    </tr>\n",
              "  </tbody>\n",
              "</table>\n",
              "</div>"
            ],
            "text/plain": [
              "   Unnamed: 0       open_SAR\n",
              "0  2021-01-30  128437.248512\n",
              "1  2021-01-29  125144.022272\n",
              "2  2021-01-28  113870.357376\n",
              "3  2021-01-27  121753.023104\n",
              "4  2021-01-26  120966.114176"
            ]
          },
          "metadata": {
            "tags": []
          },
          "execution_count": 5
        }
      ]
    },
    {
      "cell_type": "code",
      "metadata": {
        "id": "_DjtXKgd3rjD"
      },
      "source": [
        "df.columns = ['date', 'open_SAR']"
      ],
      "execution_count": 6,
      "outputs": []
    },
    {
      "cell_type": "code",
      "metadata": {
        "colab": {
          "base_uri": "https://localhost:8080/",
          "height": 199
        },
        "id": "GpgS1uPM8J_A",
        "outputId": "325f87d8-bb3b-4c70-96da-6150e265d7a2"
      },
      "source": [
        "df.head()"
      ],
      "execution_count": 7,
      "outputs": [
        {
          "output_type": "execute_result",
          "data": {
            "text/html": [
              "<div>\n",
              "<style scoped>\n",
              "    .dataframe tbody tr th:only-of-type {\n",
              "        vertical-align: middle;\n",
              "    }\n",
              "\n",
              "    .dataframe tbody tr th {\n",
              "        vertical-align: top;\n",
              "    }\n",
              "\n",
              "    .dataframe thead th {\n",
              "        text-align: right;\n",
              "    }\n",
              "</style>\n",
              "<table border=\"1\" class=\"dataframe\">\n",
              "  <thead>\n",
              "    <tr style=\"text-align: right;\">\n",
              "      <th></th>\n",
              "      <th>date</th>\n",
              "      <th>open_SAR</th>\n",
              "    </tr>\n",
              "  </thead>\n",
              "  <tbody>\n",
              "    <tr>\n",
              "      <th>0</th>\n",
              "      <td>2021-01-30</td>\n",
              "      <td>128437.248512</td>\n",
              "    </tr>\n",
              "    <tr>\n",
              "      <th>1</th>\n",
              "      <td>2021-01-29</td>\n",
              "      <td>125144.022272</td>\n",
              "    </tr>\n",
              "    <tr>\n",
              "      <th>2</th>\n",
              "      <td>2021-01-28</td>\n",
              "      <td>113870.357376</td>\n",
              "    </tr>\n",
              "    <tr>\n",
              "      <th>3</th>\n",
              "      <td>2021-01-27</td>\n",
              "      <td>121753.023104</td>\n",
              "    </tr>\n",
              "    <tr>\n",
              "      <th>4</th>\n",
              "      <td>2021-01-26</td>\n",
              "      <td>120966.114176</td>\n",
              "    </tr>\n",
              "  </tbody>\n",
              "</table>\n",
              "</div>"
            ],
            "text/plain": [
              "         date       open_SAR\n",
              "0  2021-01-30  128437.248512\n",
              "1  2021-01-29  125144.022272\n",
              "2  2021-01-28  113870.357376\n",
              "3  2021-01-27  121753.023104\n",
              "4  2021-01-26  120966.114176"
            ]
          },
          "metadata": {
            "tags": []
          },
          "execution_count": 7
        }
      ]
    },
    {
      "cell_type": "code",
      "metadata": {
        "colab": {
          "base_uri": "https://localhost:8080/"
        },
        "id": "_ue27sEQ-RB0",
        "outputId": "1279ff82-66c7-4bf8-cc76-2978fc30ed3e"
      },
      "source": [
        "len(df)"
      ],
      "execution_count": 8,
      "outputs": [
        {
          "output_type": "execute_result",
          "data": {
            "text/plain": [
              "1000"
            ]
          },
          "metadata": {
            "tags": []
          },
          "execution_count": 8
        }
      ]
    },
    {
      "cell_type": "code",
      "metadata": {
        "colab": {
          "base_uri": "https://localhost:8080/"
        },
        "id": "xSl7_TxX3e1a",
        "outputId": "3b4193bb-97ea-44fa-e21f-86e6a4117e84"
      },
      "source": [
        "df.isnull().sum()"
      ],
      "execution_count": 9,
      "outputs": [
        {
          "output_type": "execute_result",
          "data": {
            "text/plain": [
              "date        0\n",
              "open_SAR    0\n",
              "dtype: int64"
            ]
          },
          "metadata": {
            "tags": []
          },
          "execution_count": 9
        }
      ]
    },
    {
      "cell_type": "code",
      "metadata": {
        "id": "0M48AMw08MWC"
      },
      "source": [
        "dates = df['date'].values\n",
        "open_sar = df['open_SAR'].values"
      ],
      "execution_count": 22,
      "outputs": []
    },
    {
      "cell_type": "code",
      "metadata": {
        "id": "FKFJd7Z3xoYH"
      },
      "source": [
        "mae_val = 0.1*(max(open_sar)-min(open_sar))"
      ],
      "execution_count": 24,
      "outputs": []
    },
    {
      "cell_type": "code",
      "metadata": {
        "colab": {
          "base_uri": "https://localhost:8080/",
          "height": 336
        },
        "id": "NW_NOq8J8bWB",
        "outputId": "5a085ed9-7298-4097-a8f0-8b1326288322"
      },
      "source": [
        "plt.figure(figsize=(7,5))\n",
        "plt.plot(dates, open_sar)\n",
        "plt.title('Open SAR',\n",
        "          fontsize=12);"
      ],
      "execution_count": 26,
      "outputs": [
        {
          "output_type": "display_data",
          "data": {
            "image/png": "[encoded data removed]",
            "text/plain": [
              "<Figure size 504x360 with 1 Axes>"
            ]
          },
          "metadata": {
            "tags": [],
            "needs_background": "light"
          }
        }
      ]
    },
    {
      "cell_type": "code",
      "metadata": {
        "id": "BeJXvFdrromZ"
      },
      "source": [
        "from sklearn.model_selection import train_test_split\n",
        "data_latih, data_test, label_latih, label_test = train_test_split(open_sar, dates, test_size=0.2)"
      ],
      "execution_count": 27,
      "outputs": []
    },
    {
      "cell_type": "code",
      "metadata": {
        "colab": {
          "base_uri": "https://localhost:8080/"
        },
        "id": "Go0twl5Dtad_",
        "outputId": "9be16463-8a8e-40de-db80-3107a0d5d17a"
      },
      "source": [
        "len(data_latih)"
      ],
      "execution_count": 28,
      "outputs": [
        {
          "output_type": "execute_result",
          "data": {
            "text/plain": [
              "800"
            ]
          },
          "metadata": {
            "tags": []
          },
          "execution_count": 28
        }
      ]
    },
    {
      "cell_type": "code",
      "metadata": {
        "colab": {
          "base_uri": "https://localhost:8080/",
          "height": 336
        },
        "id": "bT9OjgCHts_6",
        "outputId": "07ba9b73-64e0-4f03-a7bb-f55d650e2d40"
      },
      "source": [
        "plt.figure(figsize=(7,5))\n",
        "plt.plot(label_latih, data_latih)\n",
        "plt.title('Open SAR',\n",
        "          fontsize=12);"
      ],
      "execution_count": 29,
      "outputs": [
        {
          "output_type": "display_data",
          "data": {
            "image/png": "[encoded data removed]",
            "text/plain": [
              "<Figure size 504x360 with 1 Axes>"
            ]
          },
          "metadata": {
            "tags": [],
            "needs_background": "light"
          }
        }
      ]
    },
    {
      "cell_type": "code",
      "metadata": {
        "id": "Hr6aiYGl8rjq"
      },
      "source": [
        "def windowed_dataset(series, window_size, batch_size, shuffle_buffer):\n",
        "    series = tf.expand_dims(series, axis=-1)\n",
        "    ds = tf.data.Dataset.from_tensor_slices(series)\n",
        "    ds = ds.window(window_size + 1, shift=1, drop_remainder=True)\n",
        "    ds = ds.flat_map(lambda w: w.batch(window_size + 1))\n",
        "    ds = ds.shuffle(shuffle_buffer)\n",
        "    ds = ds.map(lambda w: (w[:-1], w[-1:]))\n",
        "    return ds.batch(batch_size).prefetch(1)"
      ],
      "execution_count": 30,
      "outputs": []
    },
    {
      "cell_type": "code",
      "metadata": {
        "id": "AE23HYfH-Jqv"
      },
      "source": [
        "train_set = windowed_dataset(data_latih, window_size=60, batch_size=100, shuffle_buffer=1000)\n",
        "model = tf.keras.models.Sequential([\n",
        "  tf.keras.layers.LSTM(60, return_sequences=True),\n",
        "  tf.keras.layers.LSTM(60),\n",
        "  tf.keras.layers.Dense(30, activation=\"relu\"),\n",
        "  tf.keras.layers.Dense(10, activation=\"relu\"),\n",
        "  tf.keras.layers.Dense(1),\n",
        "])"
      ],
      "execution_count": 31,
      "outputs": []
    },
    {
      "cell_type": "code",
      "metadata": {
        "id": "RsDEg2xQu8fU"
      },
      "source": [
        "class myCallback(tf.keras.callbacks.Callback):\n",
        "  def on_epoch_end(self, epoch, logs={}):\n",
        "    if(logs.get('mae')<mae_val):\n",
        "      print(\"\\nMAE < 10%\")\n",
        "      self.model.stop_training = True\n",
        "callbacks = myCallback()"
      ],
      "execution_count": 32,
      "outputs": []
    },
    {
      "cell_type": "code",
      "metadata": {
        "colab": {
          "base_uri": "https://localhost:8080/"
        },
        "id": "9F7xxv3Z-gSG",
        "outputId": "0a282b25-3386-4ab7-a1e3-bd2df10d6fa2"
      },
      "source": [
        "optimizer = tf.keras.optimizers.SGD(lr=1.0000e-04, momentum=0.9)\n",
        "model.compile(loss=tf.keras.losses.Huber(),\n",
        "              optimizer=optimizer,\n",
        "              metrics=[\"mae\"])\n",
        "history = model.fit(train_set,epochs=100, callbacks=callbacks)"
      ],
      "execution_count": 33,
      "outputs": [
        {
          "output_type": "stream",
          "text": [
            "Epoch 1/100\n",
            "8/8 [==============================] - 5s 92ms/step - loss: 34754.7817 - mae: 34755.2782\n",
            "Epoch 2/100\n",
            "8/8 [==============================] - 1s 89ms/step - loss: 35454.8090 - mae: 35455.3086\n",
            "Epoch 3/100\n",
            "8/8 [==============================] - 1s 90ms/step - loss: 35136.6628 - mae: 35137.1628\n",
            "Epoch 4/100\n",
            "8/8 [==============================] - 1s 88ms/step - loss: 36041.1380 - mae: 36041.6363\n",
            "Epoch 5/100\n",
            "8/8 [==============================] - 1s 86ms/step - loss: 34476.0560 - mae: 34476.5560\n",
            "Epoch 6/100\n",
            "8/8 [==============================] - 1s 87ms/step - loss: 35798.6029 - mae: 35799.1029\n",
            "Epoch 7/100\n",
            "8/8 [==============================] - 1s 88ms/step - loss: 35737.2713 - mae: 35737.7743\n",
            "Epoch 8/100\n",
            "8/8 [==============================] - 1s 87ms/step - loss: 34719.9457 - mae: 34720.4470\n",
            "Epoch 9/100\n",
            "8/8 [==============================] - 1s 86ms/step - loss: 35515.1775 - mae: 35515.6775\n",
            "Epoch 10/100\n",
            "8/8 [==============================] - 1s 87ms/step - loss: 36187.4227 - mae: 36187.9240\n",
            "Epoch 11/100\n",
            "8/8 [==============================] - 1s 86ms/step - loss: 34612.8424 - mae: 34613.3424\n",
            "Epoch 12/100\n",
            "8/8 [==============================] - 1s 91ms/step - loss: 35379.5530 - mae: 35380.0534\n",
            "Epoch 13/100\n",
            "8/8 [==============================] - 1s 85ms/step - loss: 35281.2504 - mae: 35281.7474\n",
            "Epoch 14/100\n",
            "8/8 [==============================] - 1s 85ms/step - loss: 34301.3242 - mae: 34301.8242\n",
            "Epoch 15/100\n",
            "8/8 [==============================] - 1s 86ms/step - loss: 34774.8620 - mae: 34775.3615\n",
            "Epoch 16/100\n",
            "8/8 [==============================] - 1s 89ms/step - loss: 35000.8086 - mae: 35001.3051\n",
            "Epoch 17/100\n",
            "8/8 [==============================] - 1s 87ms/step - loss: 35637.1476 - mae: 35637.6476\n",
            "Epoch 18/100\n",
            "8/8 [==============================] - 1s 85ms/step - loss: 34694.6502 - mae: 34695.1502\n",
            "Epoch 19/100\n",
            "8/8 [==============================] - 1s 88ms/step - loss: 33855.1348 - mae: 33855.6348\n",
            "Epoch 20/100\n",
            "8/8 [==============================] - 1s 93ms/step - loss: 34855.0547 - mae: 34855.5547\n",
            "Epoch 21/100\n",
            "8/8 [==============================] - 1s 87ms/step - loss: 35426.3411 - mae: 35426.8411\n",
            "Epoch 22/100\n",
            "8/8 [==============================] - 1s 86ms/step - loss: 34602.6172 - mae: 34603.1155\n",
            "Epoch 23/100\n",
            "8/8 [==============================] - 1s 87ms/step - loss: 34828.7951 - mae: 34829.2947\n",
            "Epoch 24/100\n",
            "8/8 [==============================] - 1s 87ms/step - loss: 34873.5187 - mae: 34874.0200\n",
            "Epoch 25/100\n",
            "8/8 [==============================] - 1s 93ms/step - loss: 34476.5226 - mae: 34477.0221\n",
            "Epoch 26/100\n",
            "8/8 [==============================] - 1s 88ms/step - loss: 34327.4319 - mae: 34327.9284\n",
            "Epoch 27/100\n",
            "8/8 [==============================] - 1s 88ms/step - loss: 34960.6050 - mae: 34961.1068\n",
            "Epoch 28/100\n",
            "8/8 [==============================] - 1s 90ms/step - loss: 35745.6797 - mae: 35746.1823\n",
            "Epoch 29/100\n",
            "8/8 [==============================] - 1s 89ms/step - loss: 34884.2101 - mae: 34884.7114\n",
            "Epoch 30/100\n",
            "8/8 [==============================] - 1s 89ms/step - loss: 36285.4015 - mae: 36285.9019\n",
            "Epoch 31/100\n",
            "8/8 [==============================] - 1s 85ms/step - loss: 35402.4562 - mae: 35402.9566\n",
            "Epoch 32/100\n",
            "8/8 [==============================] - 1s 88ms/step - loss: 35009.8937 - mae: 35010.3937\n",
            "Epoch 33/100\n",
            "8/8 [==============================] - 1s 87ms/step - loss: 34975.4388 - mae: 34975.9379\n",
            "Epoch 34/100\n",
            "8/8 [==============================] - 1s 91ms/step - loss: 35367.8780 - mae: 35368.3780\n",
            "Epoch 35/100\n",
            "8/8 [==============================] - 1s 89ms/step - loss: 35695.3529 - mae: 35695.8537\n",
            "Epoch 36/100\n",
            "8/8 [==============================] - 1s 88ms/step - loss: 34679.4648 - mae: 34679.9666\n",
            "Epoch 37/100\n",
            "8/8 [==============================] - 1s 89ms/step - loss: 35131.1554 - mae: 35131.6528\n",
            "Epoch 38/100\n",
            "8/8 [==============================] - 1s 90ms/step - loss: 35145.5881 - mae: 35146.0868\n",
            "Epoch 39/100\n",
            "8/8 [==============================] - 1s 89ms/step - loss: 34572.2313 - mae: 34572.7313\n",
            "Epoch 40/100\n",
            "8/8 [==============================] - 1s 87ms/step - loss: 34873.8066 - mae: 34874.3066\n",
            "Epoch 41/100\n",
            "8/8 [==============================] - 1s 89ms/step - loss: 34409.0957 - mae: 34409.5957\n",
            "Epoch 42/100\n",
            "8/8 [==============================] - 1s 89ms/step - loss: 34120.5898 - mae: 34121.0885\n",
            "Epoch 43/100\n",
            "8/8 [==============================] - 1s 89ms/step - loss: 34799.4883 - mae: 34799.9891\n",
            "Epoch 44/100\n",
            "8/8 [==============================] - 1s 87ms/step - loss: 33278.4609 - mae: 33278.9622\n",
            "Epoch 45/100\n",
            "8/8 [==============================] - 1s 86ms/step - loss: 32705.3181 - mae: 32705.8181\n",
            "Epoch 46/100\n",
            "8/8 [==============================] - 1s 87ms/step - loss: 25487.0764 - mae: 25487.5764\n",
            "Epoch 47/100\n",
            "8/8 [==============================] - 1s 88ms/step - loss: 14220.5362 - mae: 14221.0362\n",
            "Epoch 48/100\n",
            "8/8 [==============================] - 1s 89ms/step - loss: 15065.3517 - mae: 15065.8517\n",
            "Epoch 49/100\n",
            "8/8 [==============================] - 1s 95ms/step - loss: 14072.2517 - mae: 14072.7517\n",
            "\n",
            "MAE < 10%\n"
          ],
          "name": "stdout"
        }
      ]
    },
    {
      "cell_type": "code",
      "metadata": {
        "id": "HUuj6qvNA40V"
      },
      "source": [
        ""
      ],
      "execution_count": null,
      "outputs": []
    }
  ]
}