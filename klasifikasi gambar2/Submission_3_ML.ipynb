{
  "nbformat": 4,
  "nbformat_minor": 0,
  "metadata": {
    "colab": {
      "name": "Submission_3_ML.ipynb",
      "provenance": [],
      "collapsed_sections": []
    },
    "kernelspec": {
      "name": "python3",
      "display_name": "Python 3"
    },
    "language_info": {
      "name": "python"
    }
  },
  "cells": [
    {
      "cell_type": "code",
      "metadata": {
        "colab": {
          "base_uri": "https://localhost:8080/"
        },
        "id": "vc64lcC8QEAc",
        "outputId": "507ac34d-5503-4ba3-f868-d1c391492e5a"
      },
      "source": [
        "!wget --no-check-certificate \\\n",
        "https://dicodingacademy.blob.core.windows.net/picodiploma/ml_pemula_academy/rockpaperscissors.zip \\\n",
        "    -O /tmp/rockpaperscissors.zip"
      ],
      "execution_count": 1,
      "outputs": [
        {
          "output_type": "stream",
          "text": [
            "--2021-04-23 01:13:10--  https://dicodingacademy.blob.core.windows.net/picodiploma/ml_pemula_academy/rockpaperscissors.zip\n",
            "Resolving dicodingacademy.blob.core.windows.net (dicodingacademy.blob.core.windows.net)... 52.239.197.36\n",
            "Connecting to dicodingacademy.blob.core.windows.net (dicodingacademy.blob.core.windows.net)|52.239.197.36|:443... connected.\n",
            "HTTP request sent, awaiting response... 200 OK\n",
            "Length: 322873683 (308M) [application/zip]\n",
            "Saving to: ‘/tmp/rockpaperscissors.zip’\n",
            "\n",
            "/tmp/rockpapersciss 100%[===================>] 307.92M  9.00MB/s    in 41s     \n",
            "\n",
            "2021-04-23 01:13:52 (7.45 MB/s) - ‘/tmp/rockpaperscissors.zip’ saved [322873683/322873683]\n",
            "\n"
          ],
          "name": "stdout"
        }
      ]
    },
    {
      "cell_type": "code",
      "metadata": {
        "id": "LAB2drXISYTg"
      },
      "source": [
        "import zipfile,os\n",
        "zipfile_dir = '/tmp/rockpaperscissors.zip'\n",
        "read_zip = zipfile.ZipFile(zipfile_dir, 'r')\n",
        "read_zip.extractall('/tmp')\n",
        "read_zip.close()"
      ],
      "execution_count": 2,
      "outputs": []
    },
    {
      "cell_type": "code",
      "metadata": {
        "colab": {
          "base_uri": "https://localhost:8080/"
        },
        "id": "Nzf6GtVkU_4P",
        "outputId": "dd94d09e-236c-4213-f1ac-3cf36b79f8a7"
      },
      "source": [
        "os.listdir('/tmp/rockpaperscissors')"
      ],
      "execution_count": 4,
      "outputs": [
        {
          "output_type": "execute_result",
          "data": {
            "text/plain": [
              "['scissors', 'rps-cv-images', 'README_rpc-cv-images.txt', 'paper', 'rock']"
            ]
          },
          "metadata": {
            "tags": []
          },
          "execution_count": 4
        }
      ]
    },
    {
      "cell_type": "code",
      "metadata": {
        "id": "FSkXdoQJV7bY"
      },
      "source": [
        "from tensorflow.keras.preprocessing.image import ImageDataGenerator"
      ],
      "execution_count": 6,
      "outputs": []
    },
    {
      "cell_type": "code",
      "metadata": {
        "id": "lmk5LmFEWyMH"
      },
      "source": [
        "folder_awal = os.path.join('/tmp/rockpaperscissors/rps-cv-images')\n",
        "rock = os.path.join(folder_awal, 'rock')\n",
        "paper = os.path.join(folder_awal, 'paper')\n",
        "scissor = os.path.join(folder_awal, 'scissors')"
      ],
      "execution_count": 7,
      "outputs": []
    },
    {
      "cell_type": "code",
      "metadata": {
        "colab": {
          "base_uri": "https://localhost:8080/"
        },
        "id": "dT9_rRqsVOPj",
        "outputId": "bb6cb1e3-8c8b-4424-df76-04a61389a5f1"
      },
      "source": [
        "print('rock :', len(os.listdir(rock)))\n",
        "print('paper :', len(os.listdir(paper)))\n",
        "print('scissors :', len(os.listdir(scissor)))\n",
        "print('jumlah dataset:', (len(os.listdir(rock)) + len(os.listdir(paper)) + len(os.listdir(scissor))))"
      ],
      "execution_count": 10,
      "outputs": [
        {
          "output_type": "stream",
          "text": [
            "rock : 726\n",
            "paper : 712\n",
            "scissors : 750\n",
            "jumlah dataset: 2188\n"
          ],
          "name": "stdout"
        }
      ]
    },
    {
      "cell_type": "code",
      "metadata": {
        "id": "EaEaLuO0XGN4"
      },
      "source": [
        "train_datagen = ImageDataGenerator(\n",
        "    rescale=1./255,\n",
        "    zoom_range=0.2,\n",
        "    validation_split=0.2,\n",
        "    rotation_range=20,\n",
        "    width_shift_range=0.2,\n",
        "    height_shift_range=0.2,\n",
        "    horizontal_flip=True,\n",
        "    shear_range=0.2,\n",
        "    fill_mode='nearest'\n",
        "    )"
      ],
      "execution_count": 11,
      "outputs": []
    },
    {
      "cell_type": "code",
      "metadata": {
        "colab": {
          "base_uri": "https://localhost:8080/"
        },
        "id": "cryj69haXV9L",
        "outputId": "e3481594-4ad5-42e5-8e44-0f55fb20d9a6"
      },
      "source": [
        "train_data = train_datagen.flow_from_directory(\n",
        "    folder_awal,\n",
        "    batch_size=16,\n",
        "    shuffle=True,\n",
        "    target_size=(150, 150), \n",
        "    subset=\"training\",\n",
        "    class_mode='categorical')\n",
        "\n",
        "validation_data = train_datagen.flow_from_directory(\n",
        "    folder_awal,\n",
        "    batch_size=16,\n",
        "    shuffle=True,\n",
        "    target_size=(150, 150),\n",
        "    subset=\"validation\",\n",
        "    class_mode='categorical')"
      ],
      "execution_count": 13,
      "outputs": [
        {
          "output_type": "stream",
          "text": [
            "Found 1751 images belonging to 3 classes.\n",
            "Found 437 images belonging to 3 classes.\n"
          ],
          "name": "stdout"
        }
      ]
    },
    {
      "cell_type": "code",
      "metadata": {
        "id": "aRqqKYYTZ9cd"
      },
      "source": [
        "import tensorflow as tf"
      ],
      "execution_count": 17,
      "outputs": []
    },
    {
      "cell_type": "code",
      "metadata": {
        "id": "vuex7SQiZKuE"
      },
      "source": [
        "class myCallback(tf.keras.callbacks.Callback):\n",
        "  def on_epoch_end(self, epoch, logs={}):\n",
        "    if(logs.get('accuracy')>0.92):\n",
        "      print(\"\\nAkurasi telah mencapai 92%\")\n",
        "      self.model.stop_training = True\n",
        "callbacks = myCallback()"
      ],
      "execution_count": 18,
      "outputs": []
    },
    {
      "cell_type": "code",
      "metadata": {
        "id": "MYN47TuGZV9f"
      },
      "source": [
        "layer = tf.keras.layers\n",
        "model = tf.keras.models.Sequential([\n",
        "\n",
        "    layer.Conv2D(64, (3,3), activation='relu', input_shape=(150, 150, 3)),\n",
        "    layer.MaxPooling2D(2, 2),\n",
        "\n",
        "    layer.Conv2D(64, (3,3), activation='relu'),\n",
        "    layer.MaxPooling2D(2,2),\n",
        "\n",
        "    layer.Conv2D(128, (3,3), activation='relu'),\n",
        "    layer.MaxPooling2D(2,2),\n",
        "\n",
        "    layer.Conv2D(128, (3,3), activation='relu'),\n",
        "    layer.MaxPooling2D(2,2),\n",
        "\n",
        "    layer.Flatten(),\n",
        "    layer.Dropout(0.2),\n",
        "\n",
        "    layer.Dense(512, activation='relu'),\n",
        "    layer.Dense(3, activation='softmax')\n",
        "])"
      ],
      "execution_count": 19,
      "outputs": []
    },
    {
      "cell_type": "code",
      "metadata": {
        "id": "5AXU7vqMafzw"
      },
      "source": [
        "model.compile(\n",
        "    loss = 'categorical_crossentropy',\n",
        "    optimizer = 'rmsprop',\n",
        "    metrics = ['accuracy'])"
      ],
      "execution_count": 20,
      "outputs": []
    },
    {
      "cell_type": "code",
      "metadata": {
        "colab": {
          "base_uri": "https://localhost:8080/"
        },
        "id": "L6ODdJkgamxT",
        "outputId": "c96a21b9-b78e-44b8-ab9c-909953be4c47"
      },
      "source": [
        "history = model.fit(\n",
        "    train_data,\n",
        "    epochs=40,\n",
        "    steps_per_epoch=20,\n",
        "    validation_data = validation_data,\n",
        "    validation_steps=5,\n",
        "    callbacks = callbacks)"
      ],
      "execution_count": 21,
      "outputs": [
        {
          "output_type": "stream",
          "text": [
            "Epoch 1/40\n",
            "20/20 [==============================] - 26s 1s/step - loss: 1.4672 - accuracy: 0.3471 - val_loss: 1.1699 - val_accuracy: 0.2250\n",
            "Epoch 2/40\n",
            "20/20 [==============================] - 24s 1s/step - loss: 1.1194 - accuracy: 0.3145 - val_loss: 1.0911 - val_accuracy: 0.3625\n",
            "Epoch 3/40\n",
            "20/20 [==============================] - 24s 1s/step - loss: 1.0947 - accuracy: 0.3687 - val_loss: 1.5830 - val_accuracy: 0.3625\n",
            "Epoch 4/40\n",
            "20/20 [==============================] - 24s 1s/step - loss: 1.2539 - accuracy: 0.4794 - val_loss: 0.9908 - val_accuracy: 0.6000\n",
            "Epoch 5/40\n",
            "20/20 [==============================] - 24s 1s/step - loss: 0.8450 - accuracy: 0.6789 - val_loss: 0.9348 - val_accuracy: 0.6375\n",
            "Epoch 6/40\n",
            "20/20 [==============================] - 24s 1s/step - loss: 0.6971 - accuracy: 0.7049 - val_loss: 0.6697 - val_accuracy: 0.7000\n",
            "Epoch 7/40\n",
            "20/20 [==============================] - 24s 1s/step - loss: 0.7089 - accuracy: 0.7140 - val_loss: 0.4837 - val_accuracy: 0.7625\n",
            "Epoch 8/40\n",
            "20/20 [==============================] - 24s 1s/step - loss: 0.5284 - accuracy: 0.7820 - val_loss: 0.4957 - val_accuracy: 0.8250\n",
            "Epoch 9/40\n",
            "20/20 [==============================] - 24s 1s/step - loss: 0.4979 - accuracy: 0.8105 - val_loss: 0.5258 - val_accuracy: 0.7500\n",
            "Epoch 10/40\n",
            "20/20 [==============================] - 24s 1s/step - loss: 0.4456 - accuracy: 0.8445 - val_loss: 1.6657 - val_accuracy: 0.4875\n",
            "Epoch 11/40\n",
            "20/20 [==============================] - 24s 1s/step - loss: 0.6416 - accuracy: 0.8128 - val_loss: 0.4502 - val_accuracy: 0.8250\n",
            "Epoch 12/40\n",
            "20/20 [==============================] - 23s 1s/step - loss: 0.5862 - accuracy: 0.7708 - val_loss: 0.4383 - val_accuracy: 0.8125\n",
            "Epoch 13/40\n",
            "20/20 [==============================] - 23s 1s/step - loss: 0.4336 - accuracy: 0.8136 - val_loss: 0.2302 - val_accuracy: 0.9250\n",
            "Epoch 14/40\n",
            "20/20 [==============================] - 24s 1s/step - loss: 0.4268 - accuracy: 0.8311 - val_loss: 0.3123 - val_accuracy: 0.9125\n",
            "Epoch 15/40\n",
            "20/20 [==============================] - 24s 1s/step - loss: 0.3022 - accuracy: 0.8967 - val_loss: 0.4745 - val_accuracy: 0.8250\n",
            "Epoch 16/40\n",
            "20/20 [==============================] - 24s 1s/step - loss: 0.3375 - accuracy: 0.8533 - val_loss: 0.2364 - val_accuracy: 0.9125\n",
            "Epoch 17/40\n",
            "20/20 [==============================] - 24s 1s/step - loss: 0.3758 - accuracy: 0.8410 - val_loss: 0.8055 - val_accuracy: 0.7500\n",
            "Epoch 18/40\n",
            "20/20 [==============================] - 24s 1s/step - loss: 0.3967 - accuracy: 0.8445 - val_loss: 0.3817 - val_accuracy: 0.8500\n",
            "Epoch 19/40\n",
            "20/20 [==============================] - 24s 1s/step - loss: 0.3958 - accuracy: 0.8572 - val_loss: 0.3779 - val_accuracy: 0.8375\n",
            "Epoch 20/40\n",
            "20/20 [==============================] - 24s 1s/step - loss: 0.3484 - accuracy: 0.8662 - val_loss: 0.4028 - val_accuracy: 0.8500\n",
            "Epoch 21/40\n",
            "20/20 [==============================] - 23s 1s/step - loss: 0.3350 - accuracy: 0.8768 - val_loss: 0.2890 - val_accuracy: 0.8875\n",
            "Epoch 22/40\n",
            "20/20 [==============================] - 24s 1s/step - loss: 0.2603 - accuracy: 0.9209 - val_loss: 0.3151 - val_accuracy: 0.9500\n",
            "Epoch 23/40\n",
            "20/20 [==============================] - 24s 1s/step - loss: 0.2904 - accuracy: 0.9335 - val_loss: 0.1322 - val_accuracy: 0.9625\n",
            "Epoch 24/40\n",
            "20/20 [==============================] - 23s 1s/step - loss: 0.3064 - accuracy: 0.9243 - val_loss: 0.3894 - val_accuracy: 0.8250\n",
            "Epoch 25/40\n",
            "20/20 [==============================] - 24s 1s/step - loss: 0.2843 - accuracy: 0.8973 - val_loss: 0.4264 - val_accuracy: 0.8500\n",
            "Epoch 26/40\n",
            "20/20 [==============================] - 24s 1s/step - loss: 0.3122 - accuracy: 0.9022 - val_loss: 0.1367 - val_accuracy: 0.9500\n",
            "Epoch 27/40\n",
            "20/20 [==============================] - 24s 1s/step - loss: 0.1651 - accuracy: 0.9473 - val_loss: 0.1050 - val_accuracy: 0.9625\n",
            "\n",
            "Akurasi telah mencapai 92%\n"
          ],
          "name": "stdout"
        }
      ]
    },
    {
      "cell_type": "code",
      "metadata": {
        "colab": {
          "base_uri": "https://localhost:8080/",
          "height": 545
        },
        "id": "T8rhakEAa-4q",
        "outputId": "38944103-942c-486f-9668-be23e76a6e8c"
      },
      "source": [
        "import matplotlib.pyplot as plt\n",
        "loss = history.history['loss']\n",
        "acc = history.history['accuracy']\n",
        "val_acc = history.history['val_accuracy']\n",
        "val_loss = history.history['val_loss']\n",
        "\n",
        "range_plot = range(len(acc))\n",
        "plt.subplot(1, 2, 1)\n",
        "plt.plot(range_plot, acc, 'r', label='Training accuracy')\n",
        "plt.plot(range_plot, val_acc, 'b', label='Validation accuracy')\n",
        "plt.legend(loc=0)\n",
        "plt.title('Training and validation accuracy')\n",
        "plt.figure()\n",
        "\n",
        "plt.subplot(1, 2, 2)\n",
        "plt.plot(range_plot, loss, label='Training Loss')\n",
        "plt.plot(range_plot, val_loss, label='Validation Loss')\n",
        "plt.legend(loc='upper right')\n",
        "plt.title('Training and Validation Loss')\n",
        "plt.show()"
      ],
      "execution_count": 22,
      "outputs": [
        {
          "output_type": "display_data",
          "data": {
            "image/png": "[encoded data removed]",
            "text/plain": [
              "<Figure size 432x288 with 1 Axes>"
            ]
          },
          "metadata": {
            "tags": [],
            "needs_background": "light"
          }
        },
        {
          "output_type": "display_data",
          "data": {
            "image/png": "[encoded data removed]",
            "text/plain": [
              "<Figure size 432x288 with 1 Axes>"
            ]
          },
          "metadata": {
            "tags": [],
            "needs_background": "light"
          }
        }
      ]
    },
    {
      "cell_type": "code",
      "metadata": {
        "colab": {
          "base_uri": "https://localhost:8080/"
        },
        "id": "0AoSNnK8gla3",
        "outputId": "b0978465-4162-4a2f-cf82-ea383d220687"
      },
      "source": [
        "saving_path = (\"/content/mymodel/\") #path penyimpanan model\n",
        "tf.saved_model.save(model, saving_path)"
      ],
      "execution_count": 23,
      "outputs": [
        {
          "output_type": "stream",
          "text": [
            "INFO:tensorflow:Assets written to: /content/mymodel/assets\n"
          ],
          "name": "stdout"
        }
      ]
    },
    {
      "cell_type": "code",
      "metadata": {
        "colab": {
          "base_uri": "https://localhost:8080/"
        },
        "id": "TlY9AzP2d6R9",
        "outputId": "0a8890f6-bf9f-4168-ef32-cfe332c13df8"
      },
      "source": [
        "converter = tf.lite.TFLiteConverter.from_saved_model(saving_path)\n",
        "tflite_model = converter.convert()\n",
        "open(\"converted_model.tflite\", \"wb\").write(tflite_model)"
      ],
      "execution_count": 24,
      "outputs": [
        {
          "output_type": "execute_result",
          "data": {
            "text/plain": [
              "13897564"
            ]
          },
          "metadata": {
            "tags": []
          },
          "execution_count": 24
        }
      ]
    },
    {
      "cell_type": "code",
      "metadata": {
        "id": "ei1jx9i4hX1-"
      },
      "source": [
        ""
      ],
      "execution_count": null,
      "outputs": []
    }
  ]
}